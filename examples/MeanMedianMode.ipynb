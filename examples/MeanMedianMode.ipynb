{
 "cells": [
  {
   "cell_type": "markdown",
   "metadata": {
    "deletable": true,
    "editable": true
   },
   "source": [
    "# Mean, Median, Mode, and introducing NumPy"
   ]
  },
  {
   "cell_type": "markdown",
   "metadata": {
    "deletable": true,
    "editable": true
   },
   "source": [
    "## Mean vs. Median"
   ]
  },
  {
   "cell_type": "markdown",
   "metadata": {
    "deletable": true,
    "editable": true
   },
   "source": [
    "Let's create some fake income data, centered around 27,000 with a normal distribution and standard deviation of 15,000, with 10,000 data points. (We'll discuss those terms more later, if you're not familiar with them.)\n",
    "\n",
    "Then, compute the mean (average) - it should be close to 27,000:"
   ]
  },
  {
   "cell_type": "code",
   "execution_count": 5,
   "metadata": {
    "collapsed": false,
    "deletable": true,
    "editable": true
   },
   "outputs": [
    {
     "data": {
      "text/plain": [
       "27006.749944422125"
      ]
     },
     "execution_count": 5,
     "metadata": {},
     "output_type": "execute_result"
    }
   ],
   "source": [
    "import numpy as np\n",
    "\n",
    "incomes = np.random.normal(27000, 15000, 10000)\n",
    "np.mean(incomes)"
   ]
  },
  {
   "cell_type": "markdown",
   "metadata": {
    "deletable": true,
    "editable": true
   },
   "source": [
    "We can segment the income data into 50 buckets, and plot it as a histogram:"
   ]
  },
  {
   "cell_type": "code",
   "execution_count": 6,
   "metadata": {
    "collapsed": false,
    "deletable": true,
    "editable": true
   },
   "outputs": [
    {
     "data": {
      "image/png": "[encoded data removed]",
      "text/plain": [
       "<matplotlib.figure.Figure at 0x10f6049b0>"
      ]
     },
     "metadata": {},
     "output_type": "display_data"
    }
   ],
   "source": [
    "%matplotlib inline\n",
    "import matplotlib.pyplot as plt\n",
    "plt.hist(incomes, 50)\n",
    "plt.show()"
   ]
  },
  {
   "cell_type": "markdown",
   "metadata": {
    "deletable": true,
    "editable": true
   },
   "source": [
    "Now compute the median - since we have a nice, even distribution it too should be close to 27,000:"
   ]
  },
  {
   "cell_type": "code",
   "execution_count": 3,
   "metadata": {
    "collapsed": false,
    "deletable": true,
    "editable": true
   },
   "outputs": [
    {
     "data": {
      "text/plain": [
       "27195.153719614136"
      ]
     },
     "execution_count": 3,
     "metadata": {},
     "output_type": "execute_result"
    }
   ],
   "source": [
    "np.median(incomes)"
   ]
  },
  {
   "cell_type": "markdown",
   "metadata": {
    "deletable": true,
    "editable": true
   },
   "source": [
    "Now we'll add Donald Trump into the mix. Darn income inequality!"
   ]
  },
  {
   "cell_type": "code",
   "execution_count": 4,
   "metadata": {
    "collapsed": false,
    "deletable": true,
    "editable": true
   },
   "outputs": [],
   "source": [
    "incomes = np.append(incomes, [1000000000])"
   ]
  },
  {
   "cell_type": "markdown",
   "metadata": {
    "deletable": true,
    "editable": true
   },
   "source": [
    "The median won't change much, but the mean does:"
   ]
  },
  {
   "cell_type": "code",
   "execution_count": 5,
   "metadata": {
    "collapsed": false,
    "deletable": true,
    "editable": true
   },
   "outputs": [
    {
     "data": {
      "text/plain": [
       "27195.884278535214"
      ]
     },
     "execution_count": 5,
     "metadata": {},
     "output_type": "execute_result"
    }
   ],
   "source": [
    "np.median(incomes)"
   ]
  },
  {
   "cell_type": "code",
   "execution_count": 6,
   "metadata": {
    "collapsed": false,
    "deletable": true,
    "editable": true
   },
   "outputs": [
    {
     "data": {
      "text/plain": [
       "126993.93098257863"
      ]
     },
     "execution_count": 6,
     "metadata": {},
     "output_type": "execute_result"
    }
   ],
   "source": [
    "np.mean(incomes)"
   ]
  },
  {
   "cell_type": "markdown",
   "metadata": {
    "deletable": true,
    "editable": true
   },
   "source": [
    "## Mode"
   ]
  },
  {
   "cell_type": "markdown",
   "metadata": {
    "deletable": true,
    "editable": true
   },
   "source": [
    "Next, let's generate some fake age data for 500 people:"
   ]
  },
  {
   "cell_type": "code",
   "execution_count": 13,
   "metadata": {
    "collapsed": false,
    "deletable": true,
    "editable": true
   },
   "outputs": [
    {
     "data": {
      "text/plain": [
       "array([19, 28, 86, 74, 86, 74, 27, 57, 24, 36, 51, 43, 39, 62, 78, 80, 82,\n",
       "       22, 31, 31, 35, 46, 76, 45, 37, 67, 50, 85, 56, 81, 84, 88, 34, 77,\n",
       "       58, 47, 61, 83, 59, 57, 32, 19, 21, 64, 68, 19, 84, 72, 52, 38, 60,\n",
       "       54, 81, 85, 53, 24, 69, 73, 67, 68, 75, 80, 47, 76, 80, 63, 67, 65,\n",
       "       25, 50, 24, 54, 65, 66, 85, 51, 50, 53, 54, 49, 62, 81, 34, 81, 88,\n",
       "       80, 45, 53, 29, 27, 31, 83, 62, 58, 59, 28, 41, 74, 61, 40, 84, 79,\n",
       "       29, 34, 71, 45, 67, 32, 71, 64, 84, 28, 34, 30, 85, 55, 32, 23, 40,\n",
       "       81, 53, 64, 42, 50, 65, 74, 85, 62, 24, 31, 68, 50, 49, 30, 60, 76,\n",
       "       59, 22, 88, 32, 55, 20, 52, 52, 87, 30, 73, 53, 45, 80, 85, 58, 36,\n",
       "       65, 50, 54, 49, 89, 82, 89, 61, 73, 68, 53, 22, 77, 37, 26, 38, 68,\n",
       "       70, 42, 67, 80, 33, 71, 30, 71, 46, 56, 88, 25, 80, 41, 60, 56, 52,\n",
       "       65, 45, 43, 28, 70, 26, 27, 20, 31, 82, 62, 28, 86, 22, 36, 88, 79,\n",
       "       36, 67, 18, 85, 77, 80, 56, 35, 21, 82, 49, 89, 71, 19, 82, 88, 62,\n",
       "       41, 71, 63, 84, 20, 73, 30, 55, 24, 68, 67, 49, 47, 36, 79, 87, 50,\n",
       "       39, 70, 27, 85, 39, 84, 28, 73, 80, 67, 45, 42, 34, 57, 53, 42, 32,\n",
       "       61, 37, 71, 67, 68, 75, 30, 45, 46, 27, 72, 81, 30, 30, 53, 79, 69,\n",
       "       47, 82, 22, 40, 34, 36, 21, 53, 52, 23, 81, 62, 83, 29, 28, 78, 71,\n",
       "       86, 43, 34, 21, 48, 34, 41, 19, 26, 20, 39, 68, 86, 23, 31, 28, 52,\n",
       "       30, 22, 24, 39, 79, 50, 55, 69, 39, 22, 82, 42, 55, 20, 79, 52, 44,\n",
       "       62, 53, 51, 29, 30, 55, 53, 89, 75, 47, 86, 51, 70, 49, 74, 46, 70,\n",
       "       54, 64, 24, 42, 80, 86, 23, 58, 70, 61, 41, 24, 20, 55, 68, 28, 66,\n",
       "       88, 46, 71, 53, 61, 21, 35, 49, 61, 30, 42, 36, 77, 68, 80, 19, 86,\n",
       "       19, 36, 70, 46, 60, 19, 52, 41, 42, 39, 85, 84, 24, 38, 52, 52, 48,\n",
       "       89, 36, 38, 79, 81, 31, 74, 84, 24, 28, 28, 32, 18, 40, 45, 66, 63,\n",
       "       21, 21, 38, 53, 55, 65, 65, 32, 52, 80, 62, 65, 57, 70, 21, 51, 83,\n",
       "       45, 78, 75, 35, 48, 31, 86, 29, 52, 72, 58, 49, 28, 61, 37, 27, 68,\n",
       "       58, 53, 45, 27, 65, 73, 72, 47, 85, 80, 80, 52, 33, 40, 28, 87, 62,\n",
       "       64, 69, 35, 51, 68, 36, 23, 21, 84, 27, 86, 53, 75, 50, 25, 72, 46,\n",
       "       34, 77, 68, 69, 66, 23, 34, 19, 85, 70, 59, 27, 72, 55, 84, 85, 81,\n",
       "       89, 48, 64, 30, 27, 66, 48])"
      ]
     },
     "execution_count": 13,
     "metadata": {},
     "output_type": "execute_result"
    }
   ],
   "source": [
    "ages = np.random.randint(18, high=90, size=500)\n",
    "ages"
   ]
  },
  {
   "cell_type": "code",
   "execution_count": 14,
   "metadata": {
    "collapsed": false,
    "deletable": true,
    "editable": true
   },
   "outputs": [
    {
     "data": {
      "text/plain": [
       "ModeResult(mode=array([53]), count=array([15]))"
      ]
     },
     "execution_count": 14,
     "metadata": {},
     "output_type": "execute_result"
    }
   ],
   "source": [
    "from scipy import stats\n",
    "stats.mode(ages)"
   ]
  },
  {
   "cell_type": "code",
   "execution_count": null,
   "metadata": {
    "collapsed": false,
    "deletable": true,
    "editable": true
   },
   "outputs": [],
   "source": []
  }
 ],
 "metadata": {
  "kernelspec": {
   "display_name": "Python 3",
   "language": "python",
   "name": "python3"
  },
  "language_info": {
   "codemirror_mode": {
    "name": "ipython",
    "version": 3
   },
   "file_extension": ".py",
   "mimetype": "text/x-python",
   "name": "python",
   "nbconvert_exporter": "python",
   "pygments_lexer": "ipython3",
   "version": "3.5.2"
  }
 },
 "nbformat": 4,
 "nbformat_minor": 0
}
